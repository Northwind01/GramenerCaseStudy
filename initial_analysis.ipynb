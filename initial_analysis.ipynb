{
 "cells": [
  {
   "cell_type": "markdown",
   "metadata": {},
   "source": [
    "### Data cleaning\n",
    "\n",
    "Fix rows and columns\n",
    "\n",
    "Fix missing values\n",
    "\n",
    "Standardise values\n",
    "\n",
    "Fix invalid values\n",
    "\n",
    "Filter data"
   ]
  },
  {
   "cell_type": "markdown",
   "metadata": {},
   "source": [
    "#### Checklist for Fixing Rows\n",
    "\n",
    "Delete summary rows: Total, Subtotal rows\n",
    "\n",
    "Delete incorrect rows: Header rows, Footer rows\n",
    "\n",
    "Delete extra rows: Column number, indicators, Blank rows, Page No. \n",
    "\n",
    "#### Checklist for Fixing Columns\n",
    "\n",
    "Merge columns for creating unique identifiers if needed: E.g. Merge State, City into Full address\n",
    "\n",
    "Split columns for more data: Split address to get State and City to analyse each separately\n",
    "\n",
    "Add column names: Add column names if missing\n",
    "\n",
    "Rename columns consistently: Abbreviations, encoded columns\n",
    "\n",
    "Delete columns: Delete unnecessary columns\n",
    "\n",
    "Align misaligned columns: Dataset may have shifted columns"
   ]
  },
  {
   "cell_type": "code",
   "execution_count": null,
   "metadata": {
    "collapsed": true
   },
   "outputs": [],
   "source": []
  }
 ],
 "metadata": {
  "kernelspec": {
   "display_name": "Python 3",
   "language": "python",
   "name": "python3"
  },
  "language_info": {
   "codemirror_mode": {
    "name": "ipython",
    "version": 3
   },
   "file_extension": ".py",
   "mimetype": "text/x-python",
   "name": "python",
   "nbconvert_exporter": "python",
   "pygments_lexer": "ipython3",
   "version": "3.6.3"
  }
 },
 "nbformat": 4,
 "nbformat_minor": 2
}
