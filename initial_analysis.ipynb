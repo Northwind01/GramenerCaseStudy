{
 "cells": [
  {
   "cell_type": "markdown",
   "metadata": {},
   "source": [
    "### Data cleaning\n",
    "\n",
    "* Fix rows and columns\n",
    "\n",
    "* Fix missing values\n",
    "\n",
    "* Standardise values\n",
    "\n",
    "* Fix invalid values\n",
    "\n",
    "* Filter data"
   ]
  },
  {
   "cell_type": "markdown",
   "metadata": {},
   "source": [
    "#### Checklist for Fixing Rows\n",
    "\n",
    "* Delete summary rows: Total, Subtotal rows\n",
    "* Delete incorrect rows: Header rows, Footer rows\n",
    "* Delete extra rows: Column number, indicators, Blank rows, Page No. \n",
    "\n",
    "#### Checklist for Fixing Columns\n",
    "\n",
    "* Merge columns for creating unique identifiers if needed: E.g. Merge State, City into Full address\n",
    "* Split columns for more data: Split address to get State and City to analyse each separately\n",
    "* Add column names: Add column names if missing\n",
    "* Rename columns consistently: Abbreviations, encoded columns\n",
    "* Delete columns: Delete unnecessary columns\n",
    "* Align misaligned columns: Dataset may have shifted columns"
   ]
  },
  {
   "cell_type": "markdown",
   "metadata": {},
   "source": [
    "#### Checklist for missing values\n",
    "\n",
    "* Set values as missing values: Identify values that indicate missing data, and yet are not recognised by the software as such, e.g treat blank strings, \"NA\", \"XX\", \"999\", etc. as missing.\n",
    "\n",
    "* Adding is good, exaggerating is bad: You should try to get information from reliable external sources as much as possible, but if you can’t, then it is better to keep missing values as such rather than exaggerating the existing rows/columns.\n",
    "\n",
    "* Delete rows, columns: Rows could be deleted if the number of missing values are insignificant in number, as this would not impact the analysis. Columns could be removed if the missing values are quite significant in number.\n",
    "\n",
    "* Fill partial missing values using business judgement: Missing time zone, century, etc. These values are easily identifiable."
   ]
  },
  {
   "cell_type": "code",
   "execution_count": null,
   "metadata": {
    "collapsed": true
   },
   "outputs": [],
   "source": []
  }
 ],
 "metadata": {
  "kernelspec": {
   "display_name": "Python 3",
   "language": "python",
   "name": "python3"
  },
  "language_info": {
   "codemirror_mode": {
    "name": "ipython",
    "version": 3
   },
   "file_extension": ".py",
   "mimetype": "text/x-python",
   "name": "python",
   "nbconvert_exporter": "python",
   "pygments_lexer": "ipython3",
   "version": "3.6.3"
  }
 },
 "nbformat": 4,
 "nbformat_minor": 2
}
