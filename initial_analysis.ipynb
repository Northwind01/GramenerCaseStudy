{
 "cells": [
  {
   "cell_type": "markdown",
   "metadata": {},
   "source": [
    "### Data cleaning\n",
    "\n",
    "* Fix rows and columns\n",
    "\n",
    "* Fix missing values\n",
    "\n",
    "* Standardise values\n",
    "\n",
    "* Fix invalid values\n",
    "\n",
    "* Filter data"
   ]
  },
  {
   "cell_type": "markdown",
   "metadata": {},
   "source": [
    "#### Checklist for Fixing Rows\n",
    "\n",
    "* Delete summary rows: Total, Subtotal rows\n",
    "* Delete incorrect rows: Header rows, Footer rows\n",
    "* Delete extra rows: Column number, indicators, Blank rows, Page No. \n",
    "\n",
    "#### Checklist for Fixing Columns\n",
    "\n",
    "* Merge columns for creating unique identifiers if needed: E.g. Merge State, City into Full address\n",
    "* Split columns for more data: Split address to get State and City to analyse each separately\n",
    "* Add column names: Add column names if missing\n",
    "* Rename columns consistently: Abbreviations, encoded columns\n",
    "* Delete columns: Delete unnecessary columns\n",
    "* Align misaligned columns: Dataset may have shifted columns"
   ]
  },
  {
   "cell_type": "markdown",
   "metadata": {},
   "source": [
    "#### Checklist for missing values\n",
    "\n",
    "* Set values as missing values: Identify values that indicate missing data, and yet are not recognised by the software as such, e.g treat blank strings, \"NA\", \"XX\", \"999\", etc. as missing.\n",
    "\n",
    "* Adding is good, exaggerating is bad: You should try to get information from reliable external sources as much as possible, but if you can’t, then it is better to keep missing values as such rather than exaggerating the existing rows/columns.\n",
    "\n",
    "* Delete rows, columns: Rows could be deleted if the number of missing values are insignificant in number, as this would not impact the analysis. Columns could be removed if the missing values are quite significant in number.\n",
    "\n",
    "* Fill partial missing values using business judgement: Missing time zone, century, etc. These values are easily identifiable."
   ]
  },
  {
   "cell_type": "markdown",
   "metadata": {},
   "source": [
    "#### Checklist for Standardise values\n",
    "\n",
    "* Standardise units: Ensure all observations under a variable have a common and consistent unit, e.g. convert lbs to kgs, miles/hr to km/hr, etc.\n",
    "\n",
    "* Scale values if required:  Make sure the observations under a variable have a common scale\n",
    "\n",
    "* Standardise precision for better presentation of data, e.g. 4.5312341 kgs to 4.53 kgs.\n",
    "\n",
    "* Remove outliers: Remove high and low values that would disproportionately affect the results of your analysis.\n",
    "\n",
    "\n",
    "* Remove extra characters like such as common prefix/suffix, leading/trailing/multiple spaces, etc. These are irrelevant to analysis.\n",
    "\n",
    "* Standardise case: There are various cases that string variables may take, e.g. UPPERCASE, lowercase, Title Case, Sentence case, etc.\n",
    "\n",
    "* Standardise format: E.g. 23/10/16 to 2016/10/20, “Modi, Narendra\" to “Narendra Modi\", etc."
   ]
  },
  {
   "cell_type": "markdown",
   "metadata": {},
   "source": [
    "#### Checklist for Fixing invalid values\n",
    "\n",
    "* Encode unicode properly: In case the data is being read as junk characters, try to change encoding, E.g. CP1252 instead of UTF-8.\n",
    "* Convert incorrect data types: Correct the incorrect data types to the correct data types for ease of analysis. E.g. if numeric values are stored as strings, it would not be possible to calculate metrics such as mean, median, etc. Some of the common data type corrections are — string to number: \"12,300\" to “12300”; string to date: \"2013-Aug\" to “2013/08”; number to string: “PIN Code 110001” to \"110001\"; etc.\n",
    "* Correct values that go beyond range: If some of the values are beyond logical range, e.g. temperature less than -273° C (0° K), you would need to correct them as required. A close look would help you check if there is scope for correction, or if the value needs to be removed.\n",
    "* Correct values not in the list: Remove values that don’t belong to a list. E.g. In a data set containing blood groups of individuals, strings “E” or “F” are invalid values and can be removed.\n",
    "* Correct wrong structure: Values that don’t follow a defined structure can be removed. E.g. In a data set containing pin codes of Indian cities, a pin code of 12 digits would be an invalid value and needs to be removed. Similarly, a phone number of 12 digits would be an invalid value.\n",
    "* Validate internal rules: If there are internal rules such as a date of a product’s delivery must definitely be after the date of the order, they should be correct and consistent."
   ]
  },
  {
   "cell_type": "markdown",
   "metadata": {},
   "source": [
    "#### Checklist for Filtering Data\n",
    "\n",
    "* Deduplicate data: Remove identical rows, remove rows where some columns are identical\n",
    "* Filter rows: Filter by segment, filter by date period to get only the rows relevant to the analysis\n",
    "* Filter columns: Pick columns relevant to the analysis\n",
    "* Aggregate data: Group by required keys, aggregate the rest"
   ]
  },
  {
   "cell_type": "code",
   "execution_count": null,
   "metadata": {
    "collapsed": true
   },
   "outputs": [],
   "source": []
  }
 ],
 "metadata": {
  "kernelspec": {
   "display_name": "Python 3",
   "language": "python",
   "name": "python3"
  },
  "language_info": {
   "codemirror_mode": {
    "name": "ipython",
    "version": 3
   },
   "file_extension": ".py",
   "mimetype": "text/x-python",
   "name": "python",
   "nbconvert_exporter": "python",
   "pygments_lexer": "ipython3",
   "version": "3.6.3"
  }
 },
 "nbformat": 4,
 "nbformat_minor": 2
}
